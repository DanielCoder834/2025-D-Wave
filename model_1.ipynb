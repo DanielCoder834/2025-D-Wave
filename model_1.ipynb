{
 "cells": [
  {
   "cell_type": "code",
   "execution_count": 9,
   "metadata": {},
   "outputs": [],
   "source": [
    "#Dependencies\n",
    "from dwave.optimization import Model\n",
    "from dwave.system import LeapHybridNLSampler\n",
    "import resources\n",
    "import numpy as np"
   ]
  },
  {
   "cell_type": "code",
   "execution_count": 10,
   "metadata": {},
   "outputs": [
    {
     "name": "stdout",
     "output_type": "stream",
     "text": [
      "[2, 0, 3, 1]\n",
      "[1, 3, 0, 2]\n"
     ]
    }
   ],
   "source": [
    "#Function to permute states in the forward direction\n",
    "def permute_state_forwards(perm):\n",
    "    pairs = [(perm[i], i) for i in range(len(perm))]\n",
    "    sorted_pairs = pairs.sort()\n",
    "    return [pair[1] for pair in pairs]\n",
    "\n",
    "#Function to permute states in the backward direction\n",
    "def permute_state_backwards(perm):\n",
    "    pairs = [(perm[i], i) for i in range(len(perm))]\n",
    "    sorted_pairs = pairs.sort()\n",
    "    return [pair[1] for pair in pairs]\n",
    "\n",
    "print(permute_state_forwards([1, 3, 0, 2]))\n",
    "print(permute_state_backwards([2, 0, 3, 1]))"
   ]
  },
  {
   "cell_type": "code",
   "execution_count": 11,
   "metadata": {},
   "outputs": [],
   "source": [
    "#Function to find optimized permutation\n",
    "def optimize(distance_m, flow_m):\n",
    "    #Number of facilities and locations\n",
    "    n = len(distance_m)\n",
    "\n",
    "    #Create model\n",
    "    model = Model()\n",
    "\n",
    "    #Set parameters\n",
    "    rooms_per_floor = [8, 6, 5]\n",
    "    alpha = model.constant(25)          #Distance exchange coefficient\n",
    "    beta = model.constant(2)            #Flow exchange coefficient\n",
    "    gamma = model.constant(200000)      #Height exchange coefficient\n",
    "    # delta = model.constant(7)         #Incorrect placement penalty\n",
    "\n",
    "    #Define flow and distance in terms of model variables\n",
    "    flow = model.constant(flow_m)\n",
    "    distance = model.constant(distance_m)\n",
    "\n",
    "    #Define iterables in terms of model variables\n",
    "    j = model.constant(permute_state_forwards(list(range(n))))\n",
    "    k = model.constant(permute_state_forwards(list(range(n))))\n",
    "\n",
    "    #Get height difference\n",
    "    accumulated_rooms_per_floor = [0]\n",
    "    for i in range(len(rooms_per_floor)):\n",
    "        accumulated_rooms_per_floor.append(accumulated_rooms_per_floor[i] + rooms_per_floor[i])\n",
    "    height_m = np.zeros((n, n))\n",
    "    for i in range(n):\n",
    "        for j in range(n):\n",
    "            h_i = -1\n",
    "            while accumulated_rooms_per_floor[h_i + 1] <= i:\n",
    "                h_i += 1\n",
    "            h_j = -1\n",
    "            while accumulated_rooms_per_floor[h_j + 1] <= j:\n",
    "                h_j += 1\n",
    "            height_m[i][j] = abs(h_i - h_j)\n",
    "    height = model.constant(height_m)\n",
    "\n",
    "    #Define permutation ListVariable\n",
    "    perm = model.list(n)\n",
    "\n",
    "    #Define cost function\n",
    "    c = (distance[j][k] * (alpha + flow[perm[j]][perm[k]]) + beta * (flow[perm[j]][perm[k]] ** 2) + gamma * height[j][k] ).sum()\n",
    "\n",
    "    #Minimize cost function\n",
    "    model.minimize(c)\n",
    "\n",
    "    #Sample distribution\n",
    "    sampler = LeapHybridNLSampler()\n",
    "    results = sampler.sample(\n",
    "        model,\n",
    "        label='example2'\n",
    "    )\n",
    "\n",
    "    #Get non-permutated state\n",
    "    route, = model.iter_decisions()\n",
    "    state_non_permutated = route.state(0)\n",
    "\n",
    "    #Get permutated state\n",
    "    final_state = permute_state_backwards(state_non_permutated)\n",
    "\n",
    "    #Get cost\n",
    "    cost = 0\n",
    "    for j in range(n):\n",
    "        for k in range(j+1, n):\n",
    "            cost += distance_m[j][k] * flow_m[final_state[j]][final_state[k]]\n",
    "\n",
    "    return final_state, cost"
   ]
  },
  {
   "cell_type": "code",
   "execution_count": 12,
   "metadata": {},
   "outputs": [
    {
     "name": "stdout",
     "output_type": "stream",
     "text": [
      "([2, 0, 3, 1], 81.0)\n"
     ]
    }
   ],
   "source": [
    "#Example 1\n",
    "dist_m = [[0,  10, 2, 4],\n",
    "          [10, 0,  5, 7],\n",
    "          [2,  5,  0, 6],\n",
    "          [4,  7,  6, 0]]\n",
    "\n",
    "flow_m = [[0, 1,   2,   4],\n",
    "          [1, 0,   3.5, 3],\n",
    "          [2, 3.5, 0,   1],\n",
    "          [4, 3,   1,   0]]\n",
    "\n",
    "print(optimize(dist_m, flow_m))"
   ]
  },
  {
   "cell_type": "code",
   "execution_count": 13,
   "metadata": {},
   "outputs": [
    {
     "name": "stdout",
     "output_type": "stream",
     "text": [
      "([0, 1, 2], 10)\n"
     ]
    }
   ],
   "source": [
    "#Example 2\n",
    "flow_m = [[0, 3, 1],\n",
    "          [3, 0, 2],\n",
    "          [1, 2, 0]]\n",
    "\n",
    "dist_m = [[0, 1, 3],\n",
    "          [1, 0, 2],\n",
    "          [3, 2, 0]]\n",
    "\n",
    "print(optimize(dist_m, flow_m))"
   ]
  },
  {
   "cell_type": "code",
   "execution_count": 14,
   "metadata": {},
   "outputs": [
    {
     "name": "stdout",
     "output_type": "stream",
     "text": [
      "([17, 16, 1, 12, 5, 2, 6, 14, 7, 10, 15, 8, 13, 18, 4, 3, 0, 9, 11], 24445895)\n"
     ]
    }
   ],
   "source": [
    "#Example 3 (with real hospital data)\n",
    "print(optimize(resources.dist_m, resources.flow_m))"
   ]
  },
  {
   "cell_type": "code",
   "execution_count": 15,
   "metadata": {},
   "outputs": [
    {
     "name": "stdout",
     "output_type": "stream",
     "text": [
      "Optimal solution in month 0\n",
      "    Optimal sequence of faclity placements: [17, 16, 4, 2, 15, 10, 14, 13, 5, 9, 7, 0, 11, 18, 3, 12, 1, 6, 8]\n",
      "    Optimal cost of the sequence: 31709473\n",
      "\n",
      "Optimal solution in month 1\n",
      "    Optimal sequence of faclity placements: [17, 16, 9, 13, 10, 5, 7, 14, 1, 6, 3, 12, 4, 18, 15, 8, 11, 0, 2]\n",
      "    Optimal cost of the sequence: 27066528.05808285\n",
      "\n",
      "Optimal solution in month 2\n",
      "    Optimal sequence of faclity placements: [17, 16, 12, 2, 15, 9, 6, 7, 5, 0, 3, 8, 4, 18, 11, 13, 14, 1, 10]\n",
      "    Optimal cost of the sequence: 38058576.20264058\n",
      "\n",
      "Optimal solution in month 3\n",
      "    Optimal sequence of faclity placements: [17, 16, 2, 0, 4, 10, 13, 3, 12, 5, 11, 6, 1, 18, 15, 14, 9, 7, 8]\n",
      "    Optimal cost of the sequence: 17164571.605204597\n",
      "\n",
      "Optimal solution in month 4\n",
      "    Optimal sequence of faclity placements: [17, 10, 4, 12, 6, 9, 0, 13, 8, 7, 5, 3, 1, 18, 2, 11, 15, 16, 14]\n",
      "    Optimal cost of the sequence: 27246652.624653365\n",
      "\n",
      "Optimal solution in month 5\n",
      "    Optimal sequence of faclity placements: [17, 16, 2, 0, 7, 13, 1, 12, 15, 8, 10, 5, 9, 18, 11, 6, 4, 14, 3]\n",
      "    Optimal cost of the sequence: 31921905.2969068\n",
      "\n",
      "Optimal solution in month 6\n",
      "    Optimal sequence of faclity placements: [17, 10, 0, 8, 4, 16, 2, 11, 14, 6, 9, 15, 7, 18, 13, 12, 1, 5, 3]\n",
      "    Optimal cost of the sequence: 23366074.4180987\n",
      "\n",
      "Optimal solution in month 7\n",
      "    Optimal sequence of faclity placements: [17, 10, 3, 7, 8, 2, 9, 15, 5, 0, 4, 11, 14, 18, 1, 12, 6, 16, 13]\n",
      "    Optimal cost of the sequence: 43488287.89601083\n",
      "\n",
      "Optimal solution in month 8\n",
      "    Optimal sequence of faclity placements: [17, 2, 13, 0, 4, 14, 5, 15, 11, 16, 1, 12, 8, 7, 6, 10, 3, 9, 18]\n",
      "    Optimal cost of the sequence: 34236344.24305166\n",
      "\n",
      "Optimal solution in month 9\n",
      "    Optimal sequence of faclity placements: [17, 2, 14, 11, 5, 7, 1, 3, 9, 15, 8, 4, 13, 6, 0, 12, 10, 16, 18]\n",
      "    Optimal cost of the sequence: 28958308.275092904\n",
      "\n",
      "Optimal solution in month 10\n",
      "    Optimal sequence of faclity placements: [17, 8, 4, 16, 13, 3, 2, 9, 5, 12, 14, 11, 6, 1, 0, 10, 7, 15, 18]\n",
      "    Optimal cost of the sequence: 27124017.63944772\n",
      "\n",
      "Optimal solution in month 11\n",
      "    Optimal sequence of faclity placements: [17, 10, 15, 5, 1, 14, 4, 0, 2, 7, 11, 13, 6, 18, 8, 16, 12, 3, 9]\n",
      "    Optimal cost of the sequence: 30947704.43329587\n",
      "\n"
     ]
    }
   ],
   "source": [
    "#Time Evolution\n",
    "total_time = 12 #1 year\n",
    "flow = resources.flow_m\n",
    "dist = resources.dist_m\n",
    "n = len(flow)\n",
    "\n",
    "for t in range(total_time):\n",
    "    #Find optimal solution for this month\n",
    "    optimized_sequence, optimized_cost = optimize(dist, flow)\n",
    "    print(f\"Optimal solution in month {t}\")\n",
    "    print(f\"    Optimal sequence of faclity placements: {optimized_sequence}\")\n",
    "    print(f\"    Optimal cost of the sequence: {optimized_cost}\\n\")\n",
    "\n",
    "    #Vary flow rates over time by scaling each one by a random number sampled from normal distribution ranging from scaling factors of -10% to +10%\n",
    "    variation = np.zeros((n, n))\n",
    "    for j in range(n):\n",
    "        for k in range(j+1, n):\n",
    "            while variation[j][k] < .9 or variation[j][k] > 1.1:\n",
    "                variation[j][k] = np.random.normal(1, .05)\n",
    "            #Scale each flow by corresponding variation factor\n",
    "            flow[j][k] = flow[j][k] * variation[j][k]\n",
    "            flow[k][j] = flow[j][k]"
   ]
  }
 ],
 "metadata": {
  "kernelspec": {
   "display_name": "Python 3",
   "language": "python",
   "name": "python3"
  },
  "language_info": {
   "codemirror_mode": {
    "name": "ipython",
    "version": 3
   },
   "file_extension": ".py",
   "mimetype": "text/x-python",
   "name": "python",
   "nbconvert_exporter": "python",
   "pygments_lexer": "ipython3",
   "version": "3.10.12"
  }
 },
 "nbformat": 4,
 "nbformat_minor": 2
}
